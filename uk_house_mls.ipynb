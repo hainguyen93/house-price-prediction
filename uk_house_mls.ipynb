{
  "nbformat": 4,
  "nbformat_minor": 0,
  "metadata": {
    "colab": {
      "name": "uk_house_mls.ipynb",
      "provenance": [],
      "collapsed_sections": []
    },
    "kernelspec": {
      "name": "python3",
      "display_name": "Python 3"
    },
    "accelerator": "GPU"
  },
  "cells": [
    {
      "cell_type": "code",
      "metadata": {
        "id": "ImwGJ-vhbujb",
        "colab_type": "code",
        "outputId": "6bf0e407-648c-47f2-9dd2-a3296e36b3de",
        "colab": {
          "base_uri": "https://localhost:8080/",
          "height": 81
        }
      },
      "source": [
        "import numpy as np\n",
        "import pandas as pd\n",
        "import matplotlib.pyplot as plt\n",
        "import seaborn as sns\n",
        "\n",
        "from sklearn.preprocessing import OneHotEncoder\n",
        "from sklearn.model_selection import train_test_split\n",
        "\n",
        "from keras.optimizers import Adam, RMSprop\n",
        "from keras.models import Model, Sequential\n",
        "from keras.metrics import mean_absolute_error, mae, mse\n",
        "from keras.layers import Dense, Dropout, Input\n",
        "from keras.regularizers import l2, l1_l2\n",
        "\n",
        "from datetime import datetime"
      ],
      "execution_count": 0,
      "outputs": [
        {
          "output_type": "stream",
          "text": [
            "Using TensorFlow backend.\n"
          ],
          "name": "stderr"
        },
        {
          "output_type": "display_data",
          "data": {
            "text/html": [
              "<p style=\"color: red;\">\n",
              "The default version of TensorFlow in Colab will soon switch to TensorFlow 2.x.<br>\n",
              "We recommend you <a href=\"https://www.tensorflow.org/guide/migrate\" target=\"_blank\">upgrade</a> now \n",
              "or ensure your notebook will continue to use TensorFlow 1.x via the <code>%tensorflow_version 1.x</code> magic:\n",
              "<a href=\"https://colab.research.google.com/notebooks/tensorflow_version.ipynb\" target=\"_blank\">more info</a>.</p>\n"
            ],
            "text/plain": [
              "<IPython.core.display.HTML object>"
            ]
          },
          "metadata": {
            "tags": []
          }
        }
      ]
    },
    {
      "cell_type": "code",
      "metadata": {
        "id": "m1v4zYdqej0k",
        "colab_type": "code",
        "outputId": "1e3765c9-02d6-42f8-b0ed-69764d501015",
        "colab": {
          "base_uri": "https://localhost:8080/",
          "height": 124
        }
      },
      "source": [
        "from google.colab import drive\n",
        "drive.mount('/content/drive')"
      ],
      "execution_count": 0,
      "outputs": [
        {
          "output_type": "stream",
          "text": [
            "Go to this URL in a browser: https://accounts.google.com/o/oauth2/auth?client_id=947318989803-6bn6qk8qdgf4n4g3pfee6491hc0brc4i.apps.googleusercontent.com&redirect_uri=urn%3aietf%3awg%3aoauth%3a2.0%3aoob&response_type=code&scope=email%20https%3a%2f%2fwww.googleapis.com%2fauth%2fdocs.test%20https%3a%2f%2fwww.googleapis.com%2fauth%2fdrive%20https%3a%2f%2fwww.googleapis.com%2fauth%2fdrive.photos.readonly%20https%3a%2f%2fwww.googleapis.com%2fauth%2fpeopleapi.readonly\n",
            "\n",
            "Enter your authorization code:\n",
            "··········\n",
            "Mounted at /content/drive\n"
          ],
          "name": "stdout"
        }
      ]
    },
    {
      "cell_type": "markdown",
      "metadata": {
        "id": "atTFD8_nSBz9",
        "colab_type": "text"
      },
      "source": [
        "# **Define some useful functions**"
      ]
    },
    {
      "cell_type": "code",
      "metadata": {
        "id": "Erff7ShwIGKj",
        "colab_type": "code",
        "colab": {}
      },
      "source": [
        "def load_data(url, columns=[1, 2, 4, 6, 11]):\n",
        "  \"\"\" Load the dataset, change the column names, \n",
        "      and replace the categorical data by numeric values\n",
        "  \"\"\"\n",
        "  # load data\n",
        "  df = pd.read_csv(url, header=None, usecols=columns)\n",
        "  print('Original Data shape: ', np.shape(df))\n",
        "\n",
        "  # re-name all columns\n",
        "  column_names = ['Price', 'PurchaseDate', 'PropertyType', 'LeaseDuration', 'City']\n",
        "  df.columns = column_names\n",
        "  \n",
        "  # resplace column values\n",
        "  df['PropertyType'] = df['PropertyType'].replace({'F':0, 'D':1, 'S':2, 'T':3, 'O':4})\n",
        "  df['LeaseDuration'] = df['LeaseDuration'].replace({'L':0, 'F':1, 'U':2})\n",
        "  df.loc[df['City']=='LONDON', 'City'] = 0\n",
        "  df.loc[df['City'] != 0, 'City'] = 1\n",
        "\n",
        "  # convert column values to appropriate dtype (to save memory)\n",
        "  df['PurchaseDate'] = pd.to_datetime(df['PurchaseDate'])\n",
        "  df['Price'] = pd.to_numeric(df[\"Price\"], downcast=\"integer\")\n",
        "  df['PropertyType'] = pd.to_numeric(df['PropertyType'], downcast='integer')\n",
        "  df['LeaseDuration'] = pd.to_numeric(df[\"LeaseDuration\"], downcast=\"integer\")\n",
        "  df['City'] = pd.to_numeric(df[\"City\"], downcast=\"integer\")\n",
        "  \n",
        "  return df"
      ],
      "execution_count": 0,
      "outputs": []
    },
    {
      "cell_type": "code",
      "metadata": {
        "id": "ByXQfJ7yd3P5",
        "colab_type": "code",
        "colab": {}
      },
      "source": [
        "def split_train_test(df):\n",
        "  \"\"\" Split the data into training and test dataset \n",
        "  \"\"\"\n",
        "  # purchases prior to 1/1/2016 as training \n",
        "  cutoff = datetime(2016, 1, 1)\n",
        "  column_sels = ['Price', 'PropertyType', 'LeaseDuration', 'City']\n",
        "  train_df = df.loc[df['PurchaseDate'] <= cutoff][column_sels]\n",
        "  test_df = df.loc[df['PurchaseDate'] > cutoff][column_sels] \n",
        "  \n",
        "  # remove duplicates\n",
        "  train_df.drop_duplicates(keep='first', inplace=True)\n",
        "  test_df.drop_duplicates(keep='first', inplace=True)\n",
        "  \n",
        "  print(\"Train (and val) shape: \", train_df.shape)\n",
        "  print(\"Test shape: \", test_df.shape)  \n",
        "\n",
        "  return train_df, test_df  "
      ],
      "execution_count": 0,
      "outputs": []
    },
    {
      "cell_type": "code",
      "metadata": {
        "id": "807FFQwiJW8I",
        "colab_type": "code",
        "colab": {}
      },
      "source": [
        "def prep(train_df, test_df):\n",
        "  \"\"\" Prepare inputs/targets pair for training, and testing\n",
        "      using one-hot encoding (for categorical data), and \n",
        "      down-scale the target values (prices) \n",
        "  \"\"\"\n",
        "  # training \n",
        "  train_X = train_df[['PropertyType', 'LeaseDuration', 'City']]\n",
        "  train_y = train_df['Price'] \n",
        "\n",
        "  # testing \n",
        "  test_X = test_df[['PropertyType', 'LeaseDuration', 'City']]\n",
        "  test_y = test_df['Price']\n",
        "\n",
        "  # one-hot encoding the inputs\n",
        "  ohc = OneHotEncoder(handle_unknown='ignore')\n",
        "  ohc.fit(train_X)\n",
        "  train_X = ohc.transform(train_X)\n",
        "  test_X = ohc.transform(test_X)\n",
        "\n",
        "  # convert the targets to smaller range\n",
        "  train_y = np.log1p(train_y * 1e-3)\n",
        "  test_y = np.log1p(test_y * 1e-3)\n",
        "  \n",
        "  return (train_X, train_y), (test_X, test_y)  "
      ],
      "execution_count": 0,
      "outputs": []
    },
    {
      "cell_type": "markdown",
      "metadata": {
        "id": "CElRFWRmSHsQ",
        "colab_type": "text"
      },
      "source": [
        "# **Loading and pre-processing the dataset**"
      ]
    },
    {
      "cell_type": "code",
      "metadata": {
        "id": "tw_71SZg63Ei",
        "colab_type": "code",
        "outputId": "0288a5ce-bec8-4587-8d5b-0ee8e1ac41f8",
        "colab": {
          "base_uri": "https://localhost:8080/",
          "height": 34
        }
      },
      "source": [
        "# load the data\n",
        "url = '/content/drive/My Drive/pp-complete.csv'\n",
        "df = load_data(url)\n",
        "train_df, test_df = split_train_test(df)\n",
        "(train_X, train_y), (test_X, test_y)  = prep(train_df, test_df)"
      ],
      "execution_count": 0,
      "outputs": [
        {
          "output_type": "stream",
          "text": [
            "Data shape:  (24852949, 5)\n"
          ],
          "name": "stdout"
        }
      ]
    },
    {
      "cell_type": "markdown",
      "metadata": {
        "id": "kHAu73HcSOZh",
        "colab_type": "text"
      },
      "source": [
        "### **Linear Regression**"
      ]
    },
    {
      "cell_type": "code",
      "metadata": {
        "id": "voH70odeb5y_",
        "colab_type": "code",
        "outputId": "972b32ec-39b2-4b1e-aae0-9f7724ed3ba1",
        "colab": {
          "base_uri": "https://localhost:8080/",
          "height": 52
        }
      },
      "source": [
        "from sklearn import datasets, linear_model\n",
        "from sklearn.model_selection import cross_val_score\n",
        "from sklearn.model_selection import KFold, GridSearchCV\n",
        "from sklearn import preprocessing\n",
        "\n",
        "# store score from all models\n",
        "scores_map = {}\n",
        "\n",
        "l_regression = linear_model.LinearRegression()\n",
        "kf = KFold(n_splits=10)\n",
        "min_max_scaler = preprocessing.MinMaxScaler()\n",
        "scores = cross_val_score(l_regression, train_X , train_y, cv=kf, scoring='neg_mean_squared_error')\n",
        "scores_map['LinearRegression'] = scores\n",
        "print(\"MSE: %0.5f (+/- %0.5f)\" % (scores.mean(), scores.std()))\n",
        "\n",
        "l_ridge = linear_model.Ridge()\n",
        "scores = cross_val_score(l_ridge, train_X, train_y, cv=kf, scoring='neg_mean_squared_error')\n",
        "scores_map['Ridge'] = scores\n",
        "print(\"MSE: %0.5f (+/- %0.5f)\" % (scores.mean(), scores.std()))"
      ],
      "execution_count": 0,
      "outputs": [
        {
          "output_type": "stream",
          "text": [
            "MSE: -1.08883 (+/- 0.01375)\n",
            "MSE: -1.08883 (+/- 0.01375)\n"
          ],
          "name": "stdout"
        }
      ]
    },
    {
      "cell_type": "markdown",
      "metadata": {
        "id": "RZ03Nux8TMAh",
        "colab_type": "text"
      },
      "source": [
        "### **Polinomial regression with L2**"
      ]
    },
    {
      "cell_type": "code",
      "metadata": {
        "id": "UKSwsYrxyWrW",
        "colab_type": "code",
        "outputId": "d9db0ae8-18af-4aec-837a-318641d76065",
        "colab": {
          "base_uri": "https://localhost:8080/",
          "height": 34
        }
      },
      "source": [
        "from sklearn.pipeline import make_pipeline\n",
        "from sklearn.preprocessing import PolynomialFeatures\n",
        "\n",
        "model = make_pipeline(PolynomialFeatures(degree=3), linear_model.Ridge())\n",
        "scores = cross_val_score(model, train_X, train_y, cv=kf, scoring='neg_mean_squared_error')\n",
        "scores_map['PolyRidge'] = scores\n",
        "print(\"MSE: %0.5f (+/- %0.5f)\" % (scores.mean(), scores.std()))"
      ],
      "execution_count": 0,
      "outputs": [
        {
          "output_type": "stream",
          "text": [
            "MSE: -1.07669 (+/- 0.01399)\n"
          ],
          "name": "stdout"
        }
      ]
    },
    {
      "cell_type": "markdown",
      "metadata": {
        "id": "53qmbBJTTfN4",
        "colab_type": "text"
      },
      "source": [
        "### **Decision Tree Regressor**"
      ]
    },
    {
      "cell_type": "code",
      "metadata": {
        "id": "o3GQ5BEvUl7m",
        "colab_type": "code",
        "colab": {}
      },
      "source": [
        "from sklearn.svm import SVR\n",
        "from sklearn.model_selection import GridSearchCV\n",
        "\n",
        "# use gridSearch to find the \"best\" model\n",
        "desc_tr = DecisionTreeRegressor(max_depth=5)\n",
        "grid_sv = GridSearchCV(desc_tr, cv=kf, param_grid={\"max_depth\" : [1, 2, 3, 4, 5, 6, 7]}, scoring='neg_mean_squared_error')\n",
        "grid_sv.fit(x_scaled, y)\n",
        "print(\"Best classifier :\", grid_sv.best_estimator_)"
      ],
      "execution_count": 0,
      "outputs": []
    },
    {
      "cell_type": "code",
      "metadata": {
        "id": "x0bB3H8hyW64",
        "colab_type": "code",
        "outputId": "9fe0f82b-271c-4877-cb87-1a2ef0c2f8e6",
        "colab": {
          "base_uri": "https://localhost:8080/",
          "height": 34
        }
      },
      "source": [
        "# run the best model found by grid search\n",
        "scores = cross_val_score(desc_tr, train_X, train_y, cv=kf, scoring='neg_mean_squared_error')\n",
        "scores_map['DecisionTreeRegressor'] = scores\n",
        "print(\"MSE: %0.5f (+/- %0.5f)\" % (scores.mean(), scores.std()))"
      ],
      "execution_count": 0,
      "outputs": [
        {
          "output_type": "stream",
          "text": [
            "MSE: -1.07826 (+/- 0.01391)\n"
          ],
          "name": "stdout"
        }
      ]
    },
    {
      "cell_type": "markdown",
      "metadata": {
        "id": "pfkh4T-yTotb",
        "colab_type": "text"
      },
      "source": [
        "### **k-Nearest Neighbours**"
      ]
    },
    {
      "cell_type": "code",
      "metadata": {
        "id": "13n6ABrKyXIq",
        "colab_type": "code",
        "colab": {}
      },
      "source": [
        "from sklearn.neighbors import KNeighborsRegressor\n",
        "\n",
        "# use GS to look for the best model\n",
        "knn = KNeighborsRegressor(n_neighbors=7)\n",
        "scores = cross_val_score(knn, train_X, train_y, cv=kf, scoring='neg_mean_squared_error')\n",
        "scores_map['KNeighborsRegressor'] = scores\n",
        "grid_sv = GridSearchCV(knn, cv=kf, \n",
        "                       param_grid={\"n_neighbors\" : [2, 3, 4, 5, 6, 7]}, \n",
        "                       scoring='neg_mean_squared_error')\n",
        "grid_sv.fit(x_scaled, y)\n",
        "print(\"Best classifier :\", grid_sv.best_estimator_)\n"
      ],
      "execution_count": 0,
      "outputs": []
    },
    {
      "cell_type": "code",
      "metadata": {
        "id": "FTngj4XCUz4-",
        "colab_type": "code",
        "colab": {}
      },
      "source": [
        "# run the best model found\n",
        "knn = KNeighborsRegressor(n_neighbors=7)\n",
        "scores = cross_val_score(knn, train_X, train_y, cv=kf, scoring='neg_mean_squared_error')\n",
        "scores_map['KNeighborsRegressor'] = scores\n",
        "print(\"KNN Accuracy: %0.5f (+/- %0.5f)\" % (scores.mean(), scores.std()))"
      ],
      "execution_count": 0,
      "outputs": []
    },
    {
      "cell_type": "markdown",
      "metadata": {
        "id": "t9GOHZk9T5pA",
        "colab_type": "text"
      },
      "source": [
        "### **Gradient Boosting Regressor**"
      ]
    },
    {
      "cell_type": "code",
      "metadata": {
        "id": "Tgl6PpVqyQzN",
        "colab_type": "code",
        "outputId": "504dc609-3cc6-48a2-bf40-0f64170c84b5",
        "colab": {
          "base_uri": "https://localhost:8080/",
          "height": 173
        }
      },
      "source": [
        "from sklearn.ensemble import GradientBoostingRegressor\n",
        "\n",
        "gbr = GradientBoostingRegressor(alpha=0.9, learning_rate=0.05, max_depth=2, \n",
        "                                min_samples_leaf=5, min_samples_split=2, \n",
        "                                n_estimators=100, random_state=30)\n",
        "\n",
        "# use gridSearch to find the best model\n",
        "param_grid={'n_estimators':[100, 200], 'learning_rate': [0.1,0.05,0.02], \n",
        "            'max_depth':[2, 4,6], 'min_samples_leaf':[3,5,9]}\n",
        "grid_sv = GridSearchCV(gbr, cv=kf, param_grid=param_grid, \n",
        "                       scoring='neg_mean_squared_error')\n",
        "grid_sv.fit(train_X, train_y)\n",
        "print(\"Best classifier :\", grid_sv.best_estimator_)"
      ],
      "execution_count": 0,
      "outputs": [
        {
          "output_type": "stream",
          "text": [
            "Best classifier : GradientBoostingRegressor(alpha=0.9, criterion='friedman_mse', init=None,\n",
            "                          learning_rate=0.05, loss='ls', max_depth=4,\n",
            "                          max_features=None, max_leaf_nodes=None,\n",
            "                          min_impurity_decrease=0.0, min_impurity_split=None,\n",
            "                          min_samples_leaf=9, min_samples_split=2,\n",
            "                          min_weight_fraction_leaf=0.0, n_estimators=200,\n",
            "                          n_iter_no_change=None, presort='auto',\n",
            "                          random_state=30, subsample=1.0, tol=0.0001,\n",
            "                          validation_fraction=0.1, verbose=0, warm_start=False)\n"
          ],
          "name": "stdout"
        }
      ]
    },
    {
      "cell_type": "code",
      "metadata": {
        "id": "Gc11DfhteWO5",
        "colab_type": "code",
        "outputId": "8b39ef5d-2bd9-43c2-f20c-05d439ea3255",
        "colab": {
          "base_uri": "https://localhost:8080/",
          "height": 34
        }
      },
      "source": [
        "# run the best model found by gridSearch\n",
        "gbr = GradientBoostingRegressor(alpha=0.9, learning_rate=0.05, max_depth=4, \n",
        "                                min_samples_leaf=9, min_samples_split=2, \n",
        "                                n_estimators=200, random_state=30)\n",
        "scores = cross_val_score(gbr, train_X , train_y, cv=kf, scoring='neg_mean_squared_error')\n",
        "scores_map['GradientBoostingRegressor'] = scores\n",
        "print(\"MSE: %0.5f (+/- %0.5f)\" % (scores.mean(), scores.std()))"
      ],
      "execution_count": 0,
      "outputs": [
        {
          "output_type": "stream",
          "text": [
            "MSE: -1.07668 (+/- 0.01400)\n"
          ],
          "name": "stdout"
        }
      ]
    },
    {
      "cell_type": "markdown",
      "metadata": {
        "id": "LVgNZz-AVC8w",
        "colab_type": "text"
      },
      "source": [
        "### **Support Vector Regressor**"
      ]
    },
    {
      "cell_type": "code",
      "metadata": {
        "id": "CAU5_c-ZpCon",
        "colab_type": "code",
        "colab": {}
      },
      "source": [
        "from sklearn.svm import SVR\n",
        "\n",
        "# grid search\n",
        "svr_rbf = SVR(kernel='rbf', C=1e3, gamma=0.1)\n",
        "grid_sv = GridSearchCV(svr_rbf, cv=kf, param_grid={\"C\": [1e0, 1e1, 1e2, 1e3], \"gamma\": np.logspace(-2, 2, 5)}, scoring='neg_mean_squared_error')\n",
        "grid_sv.fit(x_scaled, y)\n",
        "print(\"Best classifier :\", grid_sv.best_estimator_)"
      ],
      "execution_count": 0,
      "outputs": []
    },
    {
      "cell_type": "code",
      "metadata": {
        "id": "nfk7y1H4VJOG",
        "colab_type": "code",
        "colab": {}
      },
      "source": [
        "# best model found by GS\n",
        "svr_rbf = SVR(kernel='rbf', C=1e3, gamma=0.1)\n",
        "scores = cross_val_score(svr_rbf, train_X , train_y, cv=kf, scoring='neg_mean_squared_error')\n",
        "scores_map['SVR'] = scores\n",
        "print(\"MSE: %0.5f (+/- %0.5f)\" % (scores.mean(), scores.std()))"
      ],
      "execution_count": 0,
      "outputs": []
    },
    {
      "cell_type": "markdown",
      "metadata": {
        "id": "4lAsjYiLVUS5",
        "colab_type": "text"
      },
      "source": [
        "### **Comparison between models considered so far**"
      ]
    },
    {
      "cell_type": "code",
      "metadata": {
        "id": "H6xKUnaVyTTo",
        "colab_type": "code",
        "outputId": "63787a32-2085-4752-9896-d14acf97219b",
        "colab": {
          "base_uri": "https://localhost:8080/",
          "height": 800
        }
      },
      "source": [
        "plt.figure(figsize=(20, 10))\n",
        "scores_map = pd.DataFrame(scores_map)\n",
        "sns.boxplot(data=scores_map)"
      ],
      "execution_count": 0,
      "outputs": [
        {
          "output_type": "stream",
          "text": [
            "['LinearRegression', 'Ridge', 'PolyRidge', 'DecisionTreeRegressor', 'GradientBoostingRegressor']\n"
          ],
          "name": "stdout"
        },
        {
          "output_type": "execute_result",
          "data": {
            "text/plain": [
              "0   -1.093313\n",
              "1   -1.094378\n",
              "2   -1.058330\n",
              "3   -1.071742\n",
              "4   -1.067663\n",
              "5   -1.073686\n",
              "6   -1.105118\n",
              "7   -1.067244\n",
              "8   -1.078656\n",
              "9   -1.072502\n",
              "Name: DecisionTreeRegressor, dtype: float64"
            ]
          },
          "metadata": {
            "tags": []
          },
          "execution_count": 18
        },
        {
          "output_type": "display_data",
          "data": {
            "image/png": "[encoded data removed]",
            "text/plain": [
              "<Figure size 1440x720 with 1 Axes>"
            ]
          },
          "metadata": {
            "tags": []
          }
        }
      ]
    }
  ]
}